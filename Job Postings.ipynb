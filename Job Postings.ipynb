{
 "cells": [
  {
   "cell_type": "markdown",
   "metadata": {},
   "source": [
    "This project is about exploring the dataset whilst revising all the concepts I have learnt so far on DataCamp"
   ]
  },
  {
   "cell_type": "code",
   "execution_count": 1,
   "metadata": {},
   "outputs": [],
   "source": [
    "#first, I want to import all the libraries I  think I will need / the ones I have learnt\n",
    "import pandas as pd\n",
    "import numpy as np\n",
    "from matplotlib import pyplot as plt\n",
    "import seaborn as sns\n",
    "from scipy.stats import poisson\n",
    "from scipy.stats import uniform\n",
    "from scipy.stats import expon\n",
    "import missingno as msno\n"
   ]
  },
  {
   "cell_type": "code",
   "execution_count": 2,
   "metadata": {},
   "outputs": [
    {
     "data": {
      "text/html": [
       "<div>\n",
       "<style scoped>\n",
       "    .dataframe tbody tr th:only-of-type {\n",
       "        vertical-align: middle;\n",
       "    }\n",
       "\n",
       "    .dataframe tbody tr th {\n",
       "        vertical-align: top;\n",
       "    }\n",
       "\n",
       "    .dataframe thead th {\n",
       "        text-align: right;\n",
       "    }\n",
       "</style>\n",
       "<table border=\"1\" class=\"dataframe\">\n",
       "  <thead>\n",
       "    <tr style=\"text-align: right;\">\n",
       "      <th></th>\n",
       "      <th>Unnamed: 0</th>\n",
       "      <th>Job Posting ID</th>\n",
       "      <th>Job Posting Date</th>\n",
       "      <th>Job Title</th>\n",
       "      <th>Job Title Full</th>\n",
       "      <th>Job Title Additional Info</th>\n",
       "      <th>Job Position Type</th>\n",
       "      <th>Job Position Level</th>\n",
       "      <th>Years of Experience</th>\n",
       "      <th>Job Skills</th>\n",
       "      <th>Job Location</th>\n",
       "      <th>Minimum Pay</th>\n",
       "      <th>Maximum Pay</th>\n",
       "      <th>Pay Rate</th>\n",
       "      <th>Number of Applicants</th>\n",
       "      <th>Company Name</th>\n",
       "      <th>Company Industry</th>\n",
       "      <th>Company Size</th>\n",
       "    </tr>\n",
       "  </thead>\n",
       "  <tbody>\n",
       "    <tr>\n",
       "      <th>0</th>\n",
       "      <td>0</td>\n",
       "      <td>2701524240</td>\n",
       "      <td>2017-01-01</td>\n",
       "      <td>Software Engineer</td>\n",
       "      <td>Software Engineer</td>\n",
       "      <td>Java Full Stack | Remote</td>\n",
       "      <td>Full-time</td>\n",
       "      <td>Entry level</td>\n",
       "      <td>1</td>\n",
       "      <td>['database', 'javascript', 'agile', 'linux', '...</td>\n",
       "      <td>United States</td>\n",
       "      <td>NaN</td>\n",
       "      <td>NaN</td>\n",
       "      <td>NaN</td>\n",
       "      <td>6.0</td>\n",
       "      <td>Cardinal Financial Company, Limited Partnership</td>\n",
       "      <td>Financial Services</td>\n",
       "      <td>1,001-5,000 employees</td>\n",
       "    </tr>\n",
       "    <tr>\n",
       "      <th>1</th>\n",
       "      <td>1</td>\n",
       "      <td>2719108338</td>\n",
       "      <td>2017-01-01</td>\n",
       "      <td>Data Engineer</td>\n",
       "      <td>Senior Azure Data Engineer</td>\n",
       "      <td>NaN</td>\n",
       "      <td>Full-time</td>\n",
       "      <td>Mid-Senior level</td>\n",
       "      <td>2</td>\n",
       "      <td>['data_lake', 'cloud', 'python', 'spark', 'git...</td>\n",
       "      <td>United States</td>\n",
       "      <td>NaN</td>\n",
       "      <td>NaN</td>\n",
       "      <td>NaN</td>\n",
       "      <td>1.0</td>\n",
       "      <td>Brinks Home</td>\n",
       "      <td>Consumer Electronics</td>\n",
       "      <td>1,001-5,000 employees</td>\n",
       "    </tr>\n",
       "    <tr>\n",
       "      <th>2</th>\n",
       "      <td>2</td>\n",
       "      <td>2719503370</td>\n",
       "      <td>2017-01-01</td>\n",
       "      <td>Software Engineer</td>\n",
       "      <td>Software Engineer I</td>\n",
       "      <td>NaN</td>\n",
       "      <td>Full-time</td>\n",
       "      <td>Entry level</td>\n",
       "      <td>5</td>\n",
       "      <td>['mongo', 'oracle', 'microsoft', 'css', 'javas...</td>\n",
       "      <td>United States</td>\n",
       "      <td>NaN</td>\n",
       "      <td>NaN</td>\n",
       "      <td>NaN</td>\n",
       "      <td>16.0</td>\n",
       "      <td>Paycor</td>\n",
       "      <td>Computer Software</td>\n",
       "      <td>1,001-5,000 employees</td>\n",
       "    </tr>\n",
       "    <tr>\n",
       "      <th>3</th>\n",
       "      <td>3</td>\n",
       "      <td>2734877741</td>\n",
       "      <td>2017-01-01</td>\n",
       "      <td>Business Analyst</td>\n",
       "      <td>Associate Business Analyst</td>\n",
       "      <td>Telecommute</td>\n",
       "      <td>Full-time</td>\n",
       "      <td>Entry level</td>\n",
       "      <td>2</td>\n",
       "      <td>['agile', 'excel']</td>\n",
       "      <td>Phoenix, AZ</td>\n",
       "      <td>NaN</td>\n",
       "      <td>NaN</td>\n",
       "      <td>NaN</td>\n",
       "      <td>1.0</td>\n",
       "      <td>Optum</td>\n",
       "      <td>Hospital &amp; Health Care</td>\n",
       "      <td>10,001+ employees</td>\n",
       "    </tr>\n",
       "    <tr>\n",
       "      <th>4</th>\n",
       "      <td>4</td>\n",
       "      <td>2752415616</td>\n",
       "      <td>2017-01-01</td>\n",
       "      <td>Developer</td>\n",
       "      <td>Swift Developer</td>\n",
       "      <td>NaN</td>\n",
       "      <td>Contract</td>\n",
       "      <td>Mid-Senior level</td>\n",
       "      <td>4</td>\n",
       "      <td>['excel', 'back-end', 'ios', 'swift', 'program...</td>\n",
       "      <td>Richmond, CA</td>\n",
       "      <td>NaN</td>\n",
       "      <td>NaN</td>\n",
       "      <td>NaN</td>\n",
       "      <td>NaN</td>\n",
       "      <td>Toptal</td>\n",
       "      <td>Internet</td>\n",
       "      <td>1,001-5,000 employees</td>\n",
       "    </tr>\n",
       "  </tbody>\n",
       "</table>\n",
       "</div>"
      ],
      "text/plain": [
       "   Unnamed: 0  Job Posting ID Job Posting Date          Job Title  \\\n",
       "0           0      2701524240       2017-01-01  Software Engineer   \n",
       "1           1      2719108338       2017-01-01      Data Engineer   \n",
       "2           2      2719503370       2017-01-01  Software Engineer   \n",
       "3           3      2734877741       2017-01-01   Business Analyst   \n",
       "4           4      2752415616       2017-01-01          Developer   \n",
       "\n",
       "               Job Title Full Job Title Additional Info Job Position Type  \\\n",
       "0           Software Engineer  Java Full Stack | Remote         Full-time   \n",
       "1  Senior Azure Data Engineer                       NaN         Full-time   \n",
       "2         Software Engineer I                       NaN         Full-time   \n",
       "3  Associate Business Analyst               Telecommute         Full-time   \n",
       "4             Swift Developer                       NaN          Contract   \n",
       "\n",
       "  Job Position Level  Years of Experience  \\\n",
       "0        Entry level                    1   \n",
       "1   Mid-Senior level                    2   \n",
       "2        Entry level                    5   \n",
       "3        Entry level                    2   \n",
       "4   Mid-Senior level                    4   \n",
       "\n",
       "                                          Job Skills   Job Location  \\\n",
       "0  ['database', 'javascript', 'agile', 'linux', '...  United States   \n",
       "1  ['data_lake', 'cloud', 'python', 'spark', 'git...  United States   \n",
       "2  ['mongo', 'oracle', 'microsoft', 'css', 'javas...  United States   \n",
       "3                                 ['agile', 'excel']    Phoenix, AZ   \n",
       "4  ['excel', 'back-end', 'ios', 'swift', 'program...   Richmond, CA   \n",
       "\n",
       "   Minimum Pay  Maximum Pay Pay Rate  Number of Applicants  \\\n",
       "0          NaN          NaN      NaN                   6.0   \n",
       "1          NaN          NaN      NaN                   1.0   \n",
       "2          NaN          NaN      NaN                  16.0   \n",
       "3          NaN          NaN      NaN                   1.0   \n",
       "4          NaN          NaN      NaN                   NaN   \n",
       "\n",
       "                                      Company Name        Company Industry  \\\n",
       "0  Cardinal Financial Company, Limited Partnership      Financial Services   \n",
       "1                                      Brinks Home    Consumer Electronics   \n",
       "2                                           Paycor       Computer Software   \n",
       "3                                            Optum  Hospital & Health Care   \n",
       "4                                           Toptal                Internet   \n",
       "\n",
       "            Company Size  \n",
       "0  1,001-5,000 employees  \n",
       "1  1,001-5,000 employees  \n",
       "2  1,001-5,000 employees  \n",
       "3      10,001+ employees  \n",
       "4  1,001-5,000 employees  "
      ]
     },
     "execution_count": 2,
     "metadata": {},
     "output_type": "execute_result"
    }
   ],
   "source": [
    "#open the csvand read the first 5 rows to get an overview of the data\n",
    "job_postings = pd.read_csv(\"job_postings.csv\")\n",
    "job_postings.head()"
   ]
  },
  {
   "cell_type": "code",
   "execution_count": 3,
   "metadata": {},
   "outputs": [
    {
     "data": {
      "text/html": [
       "<div>\n",
       "<style scoped>\n",
       "    .dataframe tbody tr th:only-of-type {\n",
       "        vertical-align: middle;\n",
       "    }\n",
       "\n",
       "    .dataframe tbody tr th {\n",
       "        vertical-align: top;\n",
       "    }\n",
       "\n",
       "    .dataframe thead th {\n",
       "        text-align: right;\n",
       "    }\n",
       "</style>\n",
       "<table border=\"1\" class=\"dataframe\">\n",
       "  <thead>\n",
       "    <tr style=\"text-align: right;\">\n",
       "      <th></th>\n",
       "      <th>Job Posting Date</th>\n",
       "      <th>Job Title</th>\n",
       "      <th>Job Title Full</th>\n",
       "      <th>Job Title Additional Info</th>\n",
       "      <th>Job Position Type</th>\n",
       "      <th>Job Position Level</th>\n",
       "      <th>Years of Experience</th>\n",
       "      <th>Job Skills</th>\n",
       "      <th>Job Location</th>\n",
       "      <th>Minimum Pay</th>\n",
       "      <th>Maximum Pay</th>\n",
       "      <th>Pay Rate</th>\n",
       "      <th>Number of Applicants</th>\n",
       "      <th>Company Name</th>\n",
       "      <th>Company Industry</th>\n",
       "      <th>Company Size</th>\n",
       "    </tr>\n",
       "  </thead>\n",
       "  <tbody>\n",
       "    <tr>\n",
       "      <th>0</th>\n",
       "      <td>2017-01-01</td>\n",
       "      <td>Software Engineer</td>\n",
       "      <td>Software Engineer</td>\n",
       "      <td>Java Full Stack | Remote</td>\n",
       "      <td>Full-time</td>\n",
       "      <td>Entry level</td>\n",
       "      <td>1</td>\n",
       "      <td>['database', 'javascript', 'agile', 'linux', '...</td>\n",
       "      <td>United States</td>\n",
       "      <td>NaN</td>\n",
       "      <td>NaN</td>\n",
       "      <td>NaN</td>\n",
       "      <td>6.0</td>\n",
       "      <td>Cardinal Financial Company, Limited Partnership</td>\n",
       "      <td>Financial Services</td>\n",
       "      <td>1,001-5,000 employees</td>\n",
       "    </tr>\n",
       "    <tr>\n",
       "      <th>1</th>\n",
       "      <td>2017-01-01</td>\n",
       "      <td>Data Engineer</td>\n",
       "      <td>Senior Azure Data Engineer</td>\n",
       "      <td>NaN</td>\n",
       "      <td>Full-time</td>\n",
       "      <td>Mid-Senior level</td>\n",
       "      <td>2</td>\n",
       "      <td>['data_lake', 'cloud', 'python', 'spark', 'git...</td>\n",
       "      <td>United States</td>\n",
       "      <td>NaN</td>\n",
       "      <td>NaN</td>\n",
       "      <td>NaN</td>\n",
       "      <td>1.0</td>\n",
       "      <td>Brinks Home</td>\n",
       "      <td>Consumer Electronics</td>\n",
       "      <td>1,001-5,000 employees</td>\n",
       "    </tr>\n",
       "    <tr>\n",
       "      <th>2</th>\n",
       "      <td>2017-01-01</td>\n",
       "      <td>Software Engineer</td>\n",
       "      <td>Software Engineer I</td>\n",
       "      <td>NaN</td>\n",
       "      <td>Full-time</td>\n",
       "      <td>Entry level</td>\n",
       "      <td>5</td>\n",
       "      <td>['mongo', 'oracle', 'microsoft', 'css', 'javas...</td>\n",
       "      <td>United States</td>\n",
       "      <td>NaN</td>\n",
       "      <td>NaN</td>\n",
       "      <td>NaN</td>\n",
       "      <td>16.0</td>\n",
       "      <td>Paycor</td>\n",
       "      <td>Computer Software</td>\n",
       "      <td>1,001-5,000 employees</td>\n",
       "    </tr>\n",
       "    <tr>\n",
       "      <th>3</th>\n",
       "      <td>2017-01-01</td>\n",
       "      <td>Business Analyst</td>\n",
       "      <td>Associate Business Analyst</td>\n",
       "      <td>Telecommute</td>\n",
       "      <td>Full-time</td>\n",
       "      <td>Entry level</td>\n",
       "      <td>2</td>\n",
       "      <td>['agile', 'excel']</td>\n",
       "      <td>Phoenix, AZ</td>\n",
       "      <td>NaN</td>\n",
       "      <td>NaN</td>\n",
       "      <td>NaN</td>\n",
       "      <td>1.0</td>\n",
       "      <td>Optum</td>\n",
       "      <td>Hospital &amp; Health Care</td>\n",
       "      <td>10,001+ employees</td>\n",
       "    </tr>\n",
       "    <tr>\n",
       "      <th>4</th>\n",
       "      <td>2017-01-01</td>\n",
       "      <td>Developer</td>\n",
       "      <td>Swift Developer</td>\n",
       "      <td>NaN</td>\n",
       "      <td>Contract</td>\n",
       "      <td>Mid-Senior level</td>\n",
       "      <td>4</td>\n",
       "      <td>['excel', 'back-end', 'ios', 'swift', 'program...</td>\n",
       "      <td>Richmond, CA</td>\n",
       "      <td>NaN</td>\n",
       "      <td>NaN</td>\n",
       "      <td>NaN</td>\n",
       "      <td>NaN</td>\n",
       "      <td>Toptal</td>\n",
       "      <td>Internet</td>\n",
       "      <td>1,001-5,000 employees</td>\n",
       "    </tr>\n",
       "  </tbody>\n",
       "</table>\n",
       "</div>"
      ],
      "text/plain": [
       "  Job Posting Date          Job Title              Job Title Full  \\\n",
       "0       2017-01-01  Software Engineer           Software Engineer   \n",
       "1       2017-01-01      Data Engineer  Senior Azure Data Engineer   \n",
       "2       2017-01-01  Software Engineer         Software Engineer I   \n",
       "3       2017-01-01   Business Analyst  Associate Business Analyst   \n",
       "4       2017-01-01          Developer             Swift Developer   \n",
       "\n",
       "  Job Title Additional Info Job Position Type Job Position Level  \\\n",
       "0  Java Full Stack | Remote         Full-time        Entry level   \n",
       "1                       NaN         Full-time   Mid-Senior level   \n",
       "2                       NaN         Full-time        Entry level   \n",
       "3               Telecommute         Full-time        Entry level   \n",
       "4                       NaN          Contract   Mid-Senior level   \n",
       "\n",
       "   Years of Experience                                         Job Skills  \\\n",
       "0                    1  ['database', 'javascript', 'agile', 'linux', '...   \n",
       "1                    2  ['data_lake', 'cloud', 'python', 'spark', 'git...   \n",
       "2                    5  ['mongo', 'oracle', 'microsoft', 'css', 'javas...   \n",
       "3                    2                                 ['agile', 'excel']   \n",
       "4                    4  ['excel', 'back-end', 'ios', 'swift', 'program...   \n",
       "\n",
       "    Job Location  Minimum Pay  Maximum Pay Pay Rate  Number of Applicants  \\\n",
       "0  United States          NaN          NaN      NaN                   6.0   \n",
       "1  United States          NaN          NaN      NaN                   1.0   \n",
       "2  United States          NaN          NaN      NaN                  16.0   \n",
       "3    Phoenix, AZ          NaN          NaN      NaN                   1.0   \n",
       "4   Richmond, CA          NaN          NaN      NaN                   NaN   \n",
       "\n",
       "                                      Company Name        Company Industry  \\\n",
       "0  Cardinal Financial Company, Limited Partnership      Financial Services   \n",
       "1                                      Brinks Home    Consumer Electronics   \n",
       "2                                           Paycor       Computer Software   \n",
       "3                                            Optum  Hospital & Health Care   \n",
       "4                                           Toptal                Internet   \n",
       "\n",
       "            Company Size  \n",
       "0  1,001-5,000 employees  \n",
       "1  1,001-5,000 employees  \n",
       "2  1,001-5,000 employees  \n",
       "3      10,001+ employees  \n",
       "4  1,001-5,000 employees  "
      ]
     },
     "execution_count": 3,
     "metadata": {},
     "output_type": "execute_result"
    }
   ],
   "source": [
    "#I want to drop the first two columns and set the job posting date as the index\n",
    "job_postings = job_postings.drop(['Unnamed: 0', 'Job Posting ID'], axis=1)\n",
    "job_postings.set_index('Job Posting Date')\n",
    "job_postings.head()"
   ]
  },
  {
   "cell_type": "code",
   "execution_count": 4,
   "metadata": {},
   "outputs": [
    {
     "name": "stdout",
     "output_type": "stream",
     "text": [
      "<class 'pandas.core.frame.DataFrame'>\n",
      "RangeIndex: 25114 entries, 0 to 25113\n",
      "Data columns (total 16 columns):\n",
      " #   Column                     Non-Null Count  Dtype  \n",
      "---  ------                     --------------  -----  \n",
      " 0   Job Posting Date           25114 non-null  object \n",
      " 1   Job Title                  25114 non-null  object \n",
      " 2   Job Title Full             25114 non-null  object \n",
      " 3   Job Title Additional Info  8187 non-null   object \n",
      " 4   Job Position Type          25114 non-null  object \n",
      " 5   Job Position Level         25114 non-null  object \n",
      " 6   Years of Experience        25114 non-null  int64  \n",
      " 7   Job Skills                 25114 non-null  object \n",
      " 8   Job Location               25114 non-null  object \n",
      " 9   Minimum Pay                1812 non-null   float64\n",
      " 10  Maximum Pay                1812 non-null   float64\n",
      " 11  Pay Rate                   1812 non-null   object \n",
      " 12  Number of Applicants       17529 non-null  float64\n",
      " 13  Company Name               25053 non-null  object \n",
      " 14  Company Industry           24895 non-null  object \n",
      " 15  Company Size               24892 non-null  object \n",
      "dtypes: float64(3), int64(1), object(12)\n",
      "memory usage: 3.1+ MB\n"
     ]
    }
   ],
   "source": [
    "#i want to see the details about each column\n",
    "job_postings.info()"
   ]
  },
  {
   "cell_type": "code",
   "execution_count": 5,
   "metadata": {},
   "outputs": [
    {
     "data": {
      "text/plain": [
       "Job Posting Date                 0\n",
       "Job Title                        0\n",
       "Job Title Full                   0\n",
       "Job Title Additional Info    16927\n",
       "Job Position Type                0\n",
       "Job Position Level               0\n",
       "Years of Experience              0\n",
       "Job Skills                       0\n",
       "Job Location                     0\n",
       "Minimum Pay                  23302\n",
       "Maximum Pay                  23302\n",
       "Pay Rate                     23302\n",
       "Number of Applicants          7585\n",
       "Company Name                    61\n",
       "Company Industry               219\n",
       "Company Size                   222\n",
       "dtype: int64"
      ]
     },
     "execution_count": 5,
     "metadata": {},
     "output_type": "execute_result"
    }
   ],
   "source": [
    "job_postings.isnull().sum() #to see how many null values I have"
   ]
  },
  {
   "cell_type": "code",
   "execution_count": 6,
   "metadata": {},
   "outputs": [
    {
     "data": {
      "text/plain": [
       "(25114, 16)"
      ]
     },
     "execution_count": 6,
     "metadata": {},
     "output_type": "execute_result"
    }
   ],
   "source": [
    "#I want to get a rough idea of the shape so i see if I can remove any rows without affecting the results\n",
    "job_postings.shape"
   ]
  },
  {
   "cell_type": "code",
   "execution_count": 7,
   "metadata": {},
   "outputs": [
    {
     "data": {
      "text/html": [
       "<div>\n",
       "<style scoped>\n",
       "    .dataframe tbody tr th:only-of-type {\n",
       "        vertical-align: middle;\n",
       "    }\n",
       "\n",
       "    .dataframe tbody tr th {\n",
       "        vertical-align: top;\n",
       "    }\n",
       "\n",
       "    .dataframe thead th {\n",
       "        text-align: right;\n",
       "    }\n",
       "</style>\n",
       "<table border=\"1\" class=\"dataframe\">\n",
       "  <thead>\n",
       "    <tr style=\"text-align: right;\">\n",
       "      <th></th>\n",
       "      <th>Job Posting Date</th>\n",
       "      <th>Job Title</th>\n",
       "      <th>Job Title Full</th>\n",
       "      <th>Job Position Type</th>\n",
       "      <th>Job Position Level</th>\n",
       "      <th>Years of Experience</th>\n",
       "      <th>Job Skills</th>\n",
       "      <th>Job Location</th>\n",
       "      <th>Minimum Pay</th>\n",
       "      <th>Maximum Pay</th>\n",
       "      <th>Pay Rate</th>\n",
       "      <th>Number of Applicants</th>\n",
       "      <th>Company Name</th>\n",
       "      <th>Company Industry</th>\n",
       "      <th>Company Size</th>\n",
       "    </tr>\n",
       "  </thead>\n",
       "  <tbody>\n",
       "    <tr>\n",
       "      <th>0</th>\n",
       "      <td>2017-01-01</td>\n",
       "      <td>Software Engineer</td>\n",
       "      <td>Software Engineer</td>\n",
       "      <td>Full-time</td>\n",
       "      <td>Entry level</td>\n",
       "      <td>1</td>\n",
       "      <td>['database', 'javascript', 'agile', 'linux', '...</td>\n",
       "      <td>United States</td>\n",
       "      <td>NaN</td>\n",
       "      <td>NaN</td>\n",
       "      <td>NaN</td>\n",
       "      <td>6.0</td>\n",
       "      <td>Cardinal Financial Company, Limited Partnership</td>\n",
       "      <td>Financial Services</td>\n",
       "      <td>1,001-5,000 employees</td>\n",
       "    </tr>\n",
       "    <tr>\n",
       "      <th>1</th>\n",
       "      <td>2017-01-01</td>\n",
       "      <td>Data Engineer</td>\n",
       "      <td>Senior Azure Data Engineer</td>\n",
       "      <td>Full-time</td>\n",
       "      <td>Mid-Senior level</td>\n",
       "      <td>2</td>\n",
       "      <td>['data_lake', 'cloud', 'python', 'spark', 'git...</td>\n",
       "      <td>United States</td>\n",
       "      <td>NaN</td>\n",
       "      <td>NaN</td>\n",
       "      <td>NaN</td>\n",
       "      <td>1.0</td>\n",
       "      <td>Brinks Home</td>\n",
       "      <td>Consumer Electronics</td>\n",
       "      <td>1,001-5,000 employees</td>\n",
       "    </tr>\n",
       "    <tr>\n",
       "      <th>2</th>\n",
       "      <td>2017-01-01</td>\n",
       "      <td>Software Engineer</td>\n",
       "      <td>Software Engineer I</td>\n",
       "      <td>Full-time</td>\n",
       "      <td>Entry level</td>\n",
       "      <td>5</td>\n",
       "      <td>['mongo', 'oracle', 'microsoft', 'css', 'javas...</td>\n",
       "      <td>United States</td>\n",
       "      <td>NaN</td>\n",
       "      <td>NaN</td>\n",
       "      <td>NaN</td>\n",
       "      <td>16.0</td>\n",
       "      <td>Paycor</td>\n",
       "      <td>Computer Software</td>\n",
       "      <td>1,001-5,000 employees</td>\n",
       "    </tr>\n",
       "    <tr>\n",
       "      <th>3</th>\n",
       "      <td>2017-01-01</td>\n",
       "      <td>Business Analyst</td>\n",
       "      <td>Associate Business Analyst</td>\n",
       "      <td>Full-time</td>\n",
       "      <td>Entry level</td>\n",
       "      <td>2</td>\n",
       "      <td>['agile', 'excel']</td>\n",
       "      <td>Phoenix, AZ</td>\n",
       "      <td>NaN</td>\n",
       "      <td>NaN</td>\n",
       "      <td>NaN</td>\n",
       "      <td>1.0</td>\n",
       "      <td>Optum</td>\n",
       "      <td>Hospital &amp; Health Care</td>\n",
       "      <td>10,001+ employees</td>\n",
       "    </tr>\n",
       "    <tr>\n",
       "      <th>4</th>\n",
       "      <td>2017-01-01</td>\n",
       "      <td>Developer</td>\n",
       "      <td>Swift Developer</td>\n",
       "      <td>Contract</td>\n",
       "      <td>Mid-Senior level</td>\n",
       "      <td>4</td>\n",
       "      <td>['excel', 'back-end', 'ios', 'swift', 'program...</td>\n",
       "      <td>Richmond, CA</td>\n",
       "      <td>NaN</td>\n",
       "      <td>NaN</td>\n",
       "      <td>NaN</td>\n",
       "      <td>NaN</td>\n",
       "      <td>Toptal</td>\n",
       "      <td>Internet</td>\n",
       "      <td>1,001-5,000 employees</td>\n",
       "    </tr>\n",
       "    <tr>\n",
       "      <th>...</th>\n",
       "      <td>...</td>\n",
       "      <td>...</td>\n",
       "      <td>...</td>\n",
       "      <td>...</td>\n",
       "      <td>...</td>\n",
       "      <td>...</td>\n",
       "      <td>...</td>\n",
       "      <td>...</td>\n",
       "      <td>...</td>\n",
       "      <td>...</td>\n",
       "      <td>...</td>\n",
       "      <td>...</td>\n",
       "      <td>...</td>\n",
       "      <td>...</td>\n",
       "      <td>...</td>\n",
       "    </tr>\n",
       "    <tr>\n",
       "      <th>25109</th>\n",
       "      <td>2021-12-31</td>\n",
       "      <td>Data Scientist</td>\n",
       "      <td>Data Scientist</td>\n",
       "      <td>Full-time</td>\n",
       "      <td>Mid-Senior level</td>\n",
       "      <td>6</td>\n",
       "      <td>['python', 'hadoop', 'r', 'powerpoint', 'progr...</td>\n",
       "      <td>United States</td>\n",
       "      <td>NaN</td>\n",
       "      <td>NaN</td>\n",
       "      <td>NaN</td>\n",
       "      <td>48.0</td>\n",
       "      <td>Venusgeo Solutions</td>\n",
       "      <td>Information Technology &amp; Services</td>\n",
       "      <td>51-200 employees</td>\n",
       "    </tr>\n",
       "    <tr>\n",
       "      <th>25110</th>\n",
       "      <td>2021-12-31</td>\n",
       "      <td>Software Engineer</td>\n",
       "      <td>Software Engineer I</td>\n",
       "      <td>Full-time</td>\n",
       "      <td>Entry level</td>\n",
       "      <td>2</td>\n",
       "      <td>['graphql', 'cloud', 'javascript', 'docker', '...</td>\n",
       "      <td>United States</td>\n",
       "      <td>NaN</td>\n",
       "      <td>NaN</td>\n",
       "      <td>NaN</td>\n",
       "      <td>17.0</td>\n",
       "      <td>Kaplan</td>\n",
       "      <td>Education Management</td>\n",
       "      <td>10,001+ employees</td>\n",
       "    </tr>\n",
       "    <tr>\n",
       "      <th>25111</th>\n",
       "      <td>2021-12-31</td>\n",
       "      <td>Software Developer</td>\n",
       "      <td>Go Software Developer</td>\n",
       "      <td>Full-time</td>\n",
       "      <td>Mid-Senior level</td>\n",
       "      <td>6</td>\n",
       "      <td>['cloud', 'aws', 'linux', 'docker', 'go']</td>\n",
       "      <td>San Diego, CA</td>\n",
       "      <td>NaN</td>\n",
       "      <td>NaN</td>\n",
       "      <td>NaN</td>\n",
       "      <td>1.0</td>\n",
       "      <td>Jobot</td>\n",
       "      <td>Staffing &amp; Recruiting</td>\n",
       "      <td>201-500 employees</td>\n",
       "    </tr>\n",
       "    <tr>\n",
       "      <th>25112</th>\n",
       "      <td>2021-12-31</td>\n",
       "      <td>Data Architect</td>\n",
       "      <td>Remote Job Opportunity: Data Architect</td>\n",
       "      <td>Contract</td>\n",
       "      <td>Entry level</td>\n",
       "      <td>2</td>\n",
       "      <td>['excel', 'database', 'ssis', 't-sql', 'ci/cd'...</td>\n",
       "      <td>Plymouth Meeting, PA</td>\n",
       "      <td>NaN</td>\n",
       "      <td>NaN</td>\n",
       "      <td>NaN</td>\n",
       "      <td>NaN</td>\n",
       "      <td>Genzeon</td>\n",
       "      <td>Information Technology &amp; Services</td>\n",
       "      <td>201-500 employees</td>\n",
       "    </tr>\n",
       "    <tr>\n",
       "      <th>25113</th>\n",
       "      <td>2021-12-31</td>\n",
       "      <td>Data Engineer</td>\n",
       "      <td>Data Engineer</td>\n",
       "      <td>Full-time</td>\n",
       "      <td>Mid-Senior level</td>\n",
       "      <td>6</td>\n",
       "      <td>['numpy', 'warehousing', 'database', 'pandas',...</td>\n",
       "      <td>Los Altos, CA</td>\n",
       "      <td>NaN</td>\n",
       "      <td>NaN</td>\n",
       "      <td>NaN</td>\n",
       "      <td>NaN</td>\n",
       "      <td>Recruiting from Scratch</td>\n",
       "      <td>Staffing &amp; Recruiting</td>\n",
       "      <td>1-10 employees</td>\n",
       "    </tr>\n",
       "  </tbody>\n",
       "</table>\n",
       "<p>25114 rows × 15 columns</p>\n",
       "</div>"
      ],
      "text/plain": [
       "      Job Posting Date           Job Title  \\\n",
       "0           2017-01-01   Software Engineer   \n",
       "1           2017-01-01       Data Engineer   \n",
       "2           2017-01-01   Software Engineer   \n",
       "3           2017-01-01    Business Analyst   \n",
       "4           2017-01-01           Developer   \n",
       "...                ...                 ...   \n",
       "25109       2021-12-31      Data Scientist   \n",
       "25110       2021-12-31   Software Engineer   \n",
       "25111       2021-12-31  Software Developer   \n",
       "25112       2021-12-31      Data Architect   \n",
       "25113       2021-12-31       Data Engineer   \n",
       "\n",
       "                               Job Title Full Job Position Type  \\\n",
       "0                           Software Engineer         Full-time   \n",
       "1                  Senior Azure Data Engineer         Full-time   \n",
       "2                         Software Engineer I         Full-time   \n",
       "3                  Associate Business Analyst         Full-time   \n",
       "4                             Swift Developer          Contract   \n",
       "...                                       ...               ...   \n",
       "25109                          Data Scientist         Full-time   \n",
       "25110                     Software Engineer I         Full-time   \n",
       "25111                   Go Software Developer         Full-time   \n",
       "25112  Remote Job Opportunity: Data Architect          Contract   \n",
       "25113                           Data Engineer         Full-time   \n",
       "\n",
       "      Job Position Level  Years of Experience  \\\n",
       "0            Entry level                    1   \n",
       "1       Mid-Senior level                    2   \n",
       "2            Entry level                    5   \n",
       "3            Entry level                    2   \n",
       "4       Mid-Senior level                    4   \n",
       "...                  ...                  ...   \n",
       "25109   Mid-Senior level                    6   \n",
       "25110        Entry level                    2   \n",
       "25111   Mid-Senior level                    6   \n",
       "25112        Entry level                    2   \n",
       "25113   Mid-Senior level                    6   \n",
       "\n",
       "                                              Job Skills  \\\n",
       "0      ['database', 'javascript', 'agile', 'linux', '...   \n",
       "1      ['data_lake', 'cloud', 'python', 'spark', 'git...   \n",
       "2      ['mongo', 'oracle', 'microsoft', 'css', 'javas...   \n",
       "3                                     ['agile', 'excel']   \n",
       "4      ['excel', 'back-end', 'ios', 'swift', 'program...   \n",
       "...                                                  ...   \n",
       "25109  ['python', 'hadoop', 'r', 'powerpoint', 'progr...   \n",
       "25110  ['graphql', 'cloud', 'javascript', 'docker', '...   \n",
       "25111          ['cloud', 'aws', 'linux', 'docker', 'go']   \n",
       "25112  ['excel', 'database', 'ssis', 't-sql', 'ci/cd'...   \n",
       "25113  ['numpy', 'warehousing', 'database', 'pandas',...   \n",
       "\n",
       "               Job Location  Minimum Pay  Maximum Pay Pay Rate  \\\n",
       "0             United States          NaN          NaN      NaN   \n",
       "1             United States          NaN          NaN      NaN   \n",
       "2             United States          NaN          NaN      NaN   \n",
       "3               Phoenix, AZ          NaN          NaN      NaN   \n",
       "4              Richmond, CA          NaN          NaN      NaN   \n",
       "...                     ...          ...          ...      ...   \n",
       "25109         United States          NaN          NaN      NaN   \n",
       "25110         United States          NaN          NaN      NaN   \n",
       "25111         San Diego, CA          NaN          NaN      NaN   \n",
       "25112  Plymouth Meeting, PA          NaN          NaN      NaN   \n",
       "25113         Los Altos, CA          NaN          NaN      NaN   \n",
       "\n",
       "       Number of Applicants                                     Company Name  \\\n",
       "0                       6.0  Cardinal Financial Company, Limited Partnership   \n",
       "1                       1.0                                      Brinks Home   \n",
       "2                      16.0                                           Paycor   \n",
       "3                       1.0                                            Optum   \n",
       "4                       NaN                                           Toptal   \n",
       "...                     ...                                              ...   \n",
       "25109                  48.0                               Venusgeo Solutions   \n",
       "25110                  17.0                                           Kaplan   \n",
       "25111                   1.0                                            Jobot   \n",
       "25112                   NaN                                          Genzeon   \n",
       "25113                   NaN                          Recruiting from Scratch   \n",
       "\n",
       "                        Company Industry           Company Size  \n",
       "0                     Financial Services  1,001-5,000 employees  \n",
       "1                   Consumer Electronics  1,001-5,000 employees  \n",
       "2                      Computer Software  1,001-5,000 employees  \n",
       "3                 Hospital & Health Care      10,001+ employees  \n",
       "4                               Internet  1,001-5,000 employees  \n",
       "...                                  ...                    ...  \n",
       "25109  Information Technology & Services       51-200 employees  \n",
       "25110               Education Management      10,001+ employees  \n",
       "25111              Staffing & Recruiting      201-500 employees  \n",
       "25112  Information Technology & Services      201-500 employees  \n",
       "25113              Staffing & Recruiting         1-10 employees  \n",
       "\n",
       "[25114 rows x 15 columns]"
      ]
     },
     "execution_count": 7,
     "metadata": {},
     "output_type": "execute_result"
    }
   ],
   "source": [
    "job_postings.drop('Job Title Additional Info', axis=1)"
   ]
  },
  {
   "cell_type": "code",
   "execution_count": 8,
   "metadata": {},
   "outputs": [
    {
     "data": {
      "text/plain": [
       "<AxesSubplot:>"
      ]
     },
     "execution_count": 8,
     "metadata": {},
     "output_type": "execute_result"
    },
    {
     "data": {
      "image/png": "[encoded data removed]",
      "text/plain": [
       "<Figure size 1728x720 with 3 Axes>"
      ]
     },
     "metadata": {
      "needs_background": "light"
     },
     "output_type": "display_data"
    }
   ],
   "source": [
    "msno.bar(job_postings)"
   ]
  },
  {
   "cell_type": "markdown",
   "metadata": {},
   "source": [
    "At this point I feel lie I will lose my mind. Basically what I wanted to do was keep the columns(Max Pay, Min Pay, and Pay rate) and visualise how many job postings often do not include these metrics. But I am struggling. I am going to keep searching until I find the solution. "
   ]
  },
  {
   "cell_type": "code",
   "execution_count": 22,
   "metadata": {},
   "outputs": [
    {
     "data": {
      "text/plain": [
       "<AxesSubplot:title={'center':'Minimum Pay Report'}, xlabel='Reported?', ylabel='Number reported'>"
      ]
     },
     "execution_count": 22,
     "metadata": {},
     "output_type": "execute_result"
    },
    {
     "data": {
      "image/png": "[encoded data removed]",
      "text/plain": [
       "<Figure size 432x288 with 1 Axes>"
      ]
     },
     "metadata": {
      "needs_background": "light"
     },
     "output_type": "display_data"
    }
   ],
   "source": [
    "\n",
    "null_min_pay = job_postings['Minimum Pay'].isnull().value_counts().plot(kind='bar', color='Burlywood', width=0.3, rot=45, ylabel='Number reported', xlabel='Reported?', title='Minimum Pay Report')\n",
    "null_min_pay"
   ]
  },
  {
   "cell_type": "markdown",
   "metadata": {},
   "source": [
    "Let me just say that I am so very excited that I got this to work. I am so proud of me :)\n",
    "I am making a few customizations so the bar graph above will look different from what I am seeing now. Just know that it was just black"
   ]
  },
  {
   "cell_type": "code",
   "execution_count": 23,
   "metadata": {},
   "outputs": [
    {
     "data": {
      "text/plain": [
       "<AxesSubplot:title={'center':'Maximum Pay Report'}, xlabel='Reported?', ylabel='Number reported'>"
      ]
     },
     "execution_count": 23,
     "metadata": {},
     "output_type": "execute_result"
    },
    {
     "data": {
      "image/png": "[encoded data removed]",
      "text/plain": [
       "<Figure size 432x288 with 1 Axes>"
      ]
     },
     "metadata": {
      "needs_background": "light"
     },
     "output_type": "display_data"
    }
   ],
   "source": [
    "null_max_pay = job_postings['Maximum Pay'].isnull().value_counts().plot(kind='bar', color='SaddleBrown', width=0.3, rot=45, ylabel='Number reported', xlabel='Reported?', title='Maximum Pay Report')\n",
    "null_max_pay"
   ]
  },
  {
   "cell_type": "code",
   "execution_count": 30,
   "metadata": {},
   "outputs": [
    {
     "data": {
      "text/plain": [
       "23302"
      ]
     },
     "execution_count": 30,
     "metadata": {},
     "output_type": "execute_result"
    }
   ],
   "source": [
    "count_nan_min = len(job_postings) - job_postings['Minimum Pay'].count()\n",
    "count_nan_min"
   ]
  },
  {
   "cell_type": "code",
   "execution_count": 33,
   "metadata": {},
   "outputs": [
    {
     "data": {
      "text/plain": [
       "92.78490085211436"
      ]
     },
     "execution_count": 33,
     "metadata": {},
     "output_type": "execute_result"
    }
   ],
   "source": [
    "percent_missing_min = count_nan_min / len(job_postings) * 100\n",
    "percent_missing_min"
   ]
  },
  {
   "cell_type": "markdown",
   "metadata": {},
   "source": [
    "Approximately 93% of job postings do not have a minimum pay indicated in the job posting"
   ]
  },
  {
   "cell_type": "code",
   "execution_count": 34,
   "metadata": {},
   "outputs": [
    {
     "data": {
      "text/plain": [
       "23302"
      ]
     },
     "execution_count": 34,
     "metadata": {},
     "output_type": "execute_result"
    }
   ],
   "source": [
    "count_nan_max = len(job_postings) - job_postings['Maximum Pay'].count()\n",
    "count_nan_max"
   ]
  },
  {
   "cell_type": "code",
   "execution_count": 35,
   "metadata": {},
   "outputs": [
    {
     "data": {
      "text/plain": [
       "92.78490085211436"
      ]
     },
     "execution_count": 35,
     "metadata": {},
     "output_type": "execute_result"
    }
   ],
   "source": [
    "percent_missing_max = count_nan_max / len(job_postings) * 100\n",
    "percent_missing_max"
   ]
  },
  {
   "cell_type": "markdown",
   "metadata": {},
   "source": [
    "Similarly, almost 93% of job postings do not have a maximum pay indicated in the job posting"
   ]
  },
  {
   "cell_type": "code",
   "execution_count": 43,
   "metadata": {},
   "outputs": [
    {
     "data": {
      "text/plain": [
       "0         Software Engineer\n",
       "1             Data Engineer\n",
       "2         Software Engineer\n",
       "3          Business Analyst\n",
       "4                 Developer\n",
       "                ...        \n",
       "25109        Data Scientist\n",
       "25110     Software Engineer\n",
       "25111    Software Developer\n",
       "25112        Data Architect\n",
       "25113         Data Engineer\n",
       "Name: Job Title, Length: 25114, dtype: object"
      ]
     },
     "execution_count": 43,
     "metadata": {},
     "output_type": "execute_result"
    }
   ],
   "source": [
    "job_postings['Job Title']"
   ]
  },
  {
   "cell_type": "code",
   "execution_count": 54,
   "metadata": {},
   "outputs": [
    {
     "data": {
      "text/plain": [
       "Software Engineer                  8112\n",
       "Data Engineer                      3462\n",
       "Business Analyst                   2009\n",
       "Data Scientist                     1999\n",
       "Developer                          1502\n",
       "Data Analyst                       1485\n",
       "Ux Researcher                       897\n",
       "Software Development Engineer       506\n",
       "Product Manager                     481\n",
       "Senior Analyst                      463\n",
       "Software Developer                  459\n",
       "Systems Analyst                     416\n",
       "Machine Learning Engineer           283\n",
       "Financial Analyst                   237\n",
       "Operations Analyst                  234\n",
       "Data Architect                      215\n",
       "Business Intelligence Analyst       184\n",
       "Analytics Engineer                  135\n",
       "User Experience Researcher          132\n",
       "Product Analyst                     126\n",
       "Marketing Analyst                   126\n",
       "Sales Engineer                      102\n",
       "Quality Assurance Analyst           101\n",
       "Product Owner                       100\n",
       "Business System Analyst              98\n",
       "Compensation Analyst                 85\n",
       "System Engineer                      81\n",
       "Solutions Engineer                   81\n",
       "Research Scientist                   80\n",
       "Quality Engineer                     74\n",
       "Research Analyst                     60\n",
       "Operations Manager                   60\n",
       "Data Infrastructure Engineer         58\n",
       "Database Engineer                    56\n",
       "Business Process Analyst             56\n",
       "Digital Analyst                      50\n",
       "Compliance Analyst                   49\n",
       "Devops Engineer                      43\n",
       "Business Consultant                  39\n",
       "Pricing Analyst                      39\n",
       "Financial Planning Analyst           38\n",
       "Data Warehouse Engineer              36\n",
       "Full Stack Engineer                  34\n",
       "Senior Compensation Consultant       30\n",
       "Analytics Manager                    29\n",
       "Network Analyst                      25\n",
       "Data Quality Analyst                 24\n",
       "Compliance Engineer                  23\n",
       "Data Science Manager                 23\n",
       "Credit Analyst                       21\n",
       "Sales Analyst                        21\n",
       "Business Intelligence Developer      19\n",
       "Data Science Engineer                16\n",
       "Name: Job Title, dtype: int64"
      ]
     },
     "execution_count": 54,
     "metadata": {},
     "output_type": "execute_result"
    }
   ],
   "source": [
    "job_postings['Job Title'].value_counts()"
   ]
  },
  {
   "cell_type": "code",
   "execution_count": 63,
   "metadata": {},
   "outputs": [
    {
     "data": {
      "text/plain": [
       "<AxesSubplot:>"
      ]
     },
     "execution_count": 63,
     "metadata": {},
     "output_type": "execute_result"
    },
    {
     "data": {
      "image/png": "[encoded data removed]",
      "text/plain": [
       "<Figure size 2160x720 with 1 Axes>"
      ]
     },
     "metadata": {
      "needs_background": "light"
     },
     "output_type": "display_data"
    }
   ],
   "source": [
    "title_count = job_postings['Job Title'].value_counts()\n",
    "plt.figure(figsize=(30, 10))\n",
    "title_count.plot(kind = 'bar', color='LightSeaGreen', width = 0.9)"
   ]
  },
  {
   "cell_type": "markdown",
   "metadata": {},
   "source": [
    "Software Engineering had the highest job postings in the period, whilst Data Science Engineering had the least"
   ]
  },
  {
   "cell_type": "markdown",
   "metadata": {},
   "source": [
    "At this point, I have not used all the libraries I loaded, however I a not going to remove them from my code because this is a lesson. I will have cases where I do not use all the libraries I learnt. But I did use most of them."
   ]
  }
 ],
 "metadata": {
  "kernelspec": {
   "display_name": "Python 3.9.7 ('base')",
   "language": "python",
   "name": "python3"
  },
  "language_info": {
   "codemirror_mode": {
    "name": "ipython",
    "version": 3
   },
   "file_extension": ".py",
   "mimetype": "text/x-python",
   "name": "python",
   "nbconvert_exporter": "python",
   "pygments_lexer": "ipython3",
   "version": "3.9.7"
  },
  "orig_nbformat": 4,
  "vscode": {
   "interpreter": {
    "hash": "ea592ef218a944792d8151a594a400fbaa982a9b267133b91517a1580f4ac5f1"
   }
  }
 },
 "nbformat": 4,
 "nbformat_minor": 2
}
